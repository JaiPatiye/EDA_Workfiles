{
  "nbformat": 4,
  "nbformat_minor": 0,
  "metadata": {
    "kernelspec": {
      "display_name": "Python 3",
      "language": "python",
      "name": "python3"
    },
    "language_info": {
      "codemirror_mode": {
        "name": "ipython",
        "version": 3
      },
      "file_extension": ".py",
      "mimetype": "text/x-python",
      "name": "python",
      "nbconvert_exporter": "python",
      "pygments_lexer": "ipython3",
      "version": "3.7.4"
    },
    "colab": {
      "name": "Assignment_17_EDA.ipynb",
      "provenance": [],
      "collapsed_sections": []
    }
  },
  "cells": [
    {
      "cell_type": "code",
      "metadata": {
        "id": "1Y-JU_x1ooBD"
      },
      "source": [
        "import pandas as pd"
      ],
      "execution_count": 1,
      "outputs": []
    },
    {
      "cell_type": "code",
      "metadata": {
        "colab": {
          "base_uri": "https://localhost:8080/",
          "height": 203
        },
        "id": "3MCtiLJBooBE",
        "outputId": "6863d187-9f9d-49f6-e0d5-c2f434433e7d"
      },
      "source": [
        "\n",
        "# Load and view first few lines of dataset\n",
        "df = pd.read_csv('/content/admission_data.csv')\n",
        "df.head()\n"
      ],
      "execution_count": 44,
      "outputs": [
        {
          "output_type": "execute_result",
          "data": {
            "text/html": [
              "<div>\n",
              "<style scoped>\n",
              "    .dataframe tbody tr th:only-of-type {\n",
              "        vertical-align: middle;\n",
              "    }\n",
              "\n",
              "    .dataframe tbody tr th {\n",
              "        vertical-align: top;\n",
              "    }\n",
              "\n",
              "    .dataframe thead th {\n",
              "        text-align: right;\n",
              "    }\n",
              "</style>\n",
              "<table border=\"1\" class=\"dataframe\">\n",
              "  <thead>\n",
              "    <tr style=\"text-align: right;\">\n",
              "      <th></th>\n",
              "      <th>student_id</th>\n",
              "      <th>gender</th>\n",
              "      <th>major</th>\n",
              "      <th>admitted</th>\n",
              "    </tr>\n",
              "  </thead>\n",
              "  <tbody>\n",
              "    <tr>\n",
              "      <th>0</th>\n",
              "      <td>35377</td>\n",
              "      <td>female</td>\n",
              "      <td>Chemistry</td>\n",
              "      <td>False</td>\n",
              "    </tr>\n",
              "    <tr>\n",
              "      <th>1</th>\n",
              "      <td>56105</td>\n",
              "      <td>male</td>\n",
              "      <td>Physics</td>\n",
              "      <td>True</td>\n",
              "    </tr>\n",
              "    <tr>\n",
              "      <th>2</th>\n",
              "      <td>31441</td>\n",
              "      <td>female</td>\n",
              "      <td>Chemistry</td>\n",
              "      <td>False</td>\n",
              "    </tr>\n",
              "    <tr>\n",
              "      <th>3</th>\n",
              "      <td>51765</td>\n",
              "      <td>male</td>\n",
              "      <td>Physics</td>\n",
              "      <td>True</td>\n",
              "    </tr>\n",
              "    <tr>\n",
              "      <th>4</th>\n",
              "      <td>53714</td>\n",
              "      <td>female</td>\n",
              "      <td>Physics</td>\n",
              "      <td>True</td>\n",
              "    </tr>\n",
              "  </tbody>\n",
              "</table>\n",
              "</div>"
            ],
            "text/plain": [
              "   student_id  gender      major  admitted\n",
              "0       35377  female  Chemistry     False\n",
              "1       56105    male    Physics      True\n",
              "2       31441  female  Chemistry     False\n",
              "3       51765    male    Physics      True\n",
              "4       53714  female    Physics      True"
            ]
          },
          "metadata": {},
          "execution_count": 44
        }
      ]
    },
    {
      "cell_type": "code",
      "metadata": {
        "colab": {
          "base_uri": "https://localhost:8080/"
        },
        "id": "hhtaUGnKooBG",
        "outputId": "f6f66bb9-f057-4c9c-eb55-8794f1ab92cc"
      },
      "source": [
        "df.info()"
      ],
      "execution_count": 39,
      "outputs": [
        {
          "output_type": "stream",
          "text": [
            "<class 'pandas.core.frame.DataFrame'>\n",
            "RangeIndex: 500 entries, 0 to 499\n",
            "Data columns (total 4 columns):\n",
            " #   Column      Non-Null Count  Dtype   \n",
            "---  ------      --------------  -----   \n",
            " 0   student_id  500 non-null    int64   \n",
            " 1   gender      500 non-null    category\n",
            " 2   major       500 non-null    category\n",
            " 3   admitted    500 non-null    bool    \n",
            "dtypes: bool(1), category(2), int64(1)\n",
            "memory usage: 5.7 KB\n"
          ],
          "name": "stdout"
        }
      ]
    },
    {
      "cell_type": "markdown",
      "metadata": {
        "id": "IDHtCdb_ooBG"
      },
      "source": [
        "### 1. Find out the following :-\n",
        "* Proportion and admission rate for each gender.\n",
        "* Proportion and admission rate for physics majors of each gender.\n",
        "* Proportion and admission rate for chemistry majors of each gender.\n",
        "* Admission rate for each major."
      ]
    },
    {
      "cell_type": "code",
      "metadata": {
        "id": "i0G6HEryozt7"
      },
      "source": [
        "## All the answers are provided below."
      ],
      "execution_count": 96,
      "outputs": []
    },
    {
      "cell_type": "markdown",
      "metadata": {
        "id": "1ybvS6o9ooBG"
      },
      "source": [
        "### 2. What proportion of female students are majoring in physics?"
      ]
    },
    {
      "cell_type": "code",
      "metadata": {
        "colab": {
          "base_uri": "https://localhost:8080/"
        },
        "id": "IoUtsLo4ooBG",
        "outputId": "efd75599-6d63-4954-b4e7-20afa45823fb"
      },
      "source": [
        "## Your code here\n",
        "\n",
        "len(df.loc[(df.gender == 'female') & (df.major == 'Physics')])\n",
        "df.gender.value_counts()\n",
        "proportion_female = 31/257\n",
        "print(\"Proportion of females in Physics :\" , proportion_female)"
      ],
      "execution_count": 95,
      "outputs": [
        {
          "output_type": "stream",
          "text": [
            "Proportion of females in Physics : 0.12062256809338522\n"
          ],
          "name": "stdout"
        }
      ]
    },
    {
      "cell_type": "markdown",
      "metadata": {
        "id": "wBS6_A-tooBH"
      },
      "source": [
        "### 3. What proportion of male students are majoring in physics?"
      ]
    },
    {
      "cell_type": "code",
      "metadata": {
        "colab": {
          "base_uri": "https://localhost:8080/"
        },
        "id": "9VPYEcLPooBH",
        "outputId": "0d29ed78-07fb-4136-908a-5e73693ce949"
      },
      "source": [
        "## Your code here\n",
        "\n",
        "len(df.loc[(df.gender == 'male') & (df.major == 'Physics')])\n",
        "df.gender.value_counts()\n",
        "proportion_male = 225/243\n",
        "print(\"Proportion of males in Physics :\" , proportion_male)"
      ],
      "execution_count": 94,
      "outputs": [
        {
          "output_type": "stream",
          "text": [
            "Proportion of males in Physics : 0.9259259259259259\n"
          ],
          "name": "stdout"
        }
      ]
    },
    {
      "cell_type": "markdown",
      "metadata": {
        "id": "vcNj3aAMooBH"
      },
      "source": [
        "### 4. What is the admission rate for female physics majors?"
      ]
    },
    {
      "cell_type": "code",
      "metadata": {
        "colab": {
          "base_uri": "https://localhost:8080/"
        },
        "id": "S18yLptkooBH",
        "outputId": "ca6b6fe0-0fa1-43b6-a434-8b4cff8fcc3a"
      },
      "source": [
        "## Your code here\n",
        "\n",
        "df.gender = df.gender.astype('category')\n",
        "df.major = df.major.astype('category')\n",
        "admission_rate_number_f = len(df.loc[(df.gender == 'female') & (df.major == 'Physics') & (df.admitted == True)])\n",
        "df.admitted.value_counts()\n",
        "admission_rate_females = admission_rate_number_f / 192\n",
        "print(\"Admission rate of females :\" , admission_rate_females)"
      ],
      "execution_count": 93,
      "outputs": [
        {
          "output_type": "stream",
          "text": [
            "Admission rate of females : 0.11979166666666667\n"
          ],
          "name": "stdout"
        }
      ]
    },
    {
      "cell_type": "markdown",
      "metadata": {
        "id": "Ca9Hip5BooBH"
      },
      "source": [
        "### 5. What is the admission rate for male physics majors?"
      ]
    },
    {
      "cell_type": "code",
      "metadata": {
        "colab": {
          "base_uri": "https://localhost:8080/"
        },
        "id": "90NsnqqhooBH",
        "outputId": "6280fedc-d6b7-415f-a3c0-9efa605fe999"
      },
      "source": [
        "## Your code here\n",
        "\n",
        "admission_rate_number_m = len(df.loc[(df.gender == 'male') & (df.major == 'Physics') & (df.admitted == True)])\n",
        "df.admitted.value_counts()\n",
        "admission_rate_males = admission_rate_number_m/192\n",
        "print(\"Admission rate of males :\" , admission_rate_males)"
      ],
      "execution_count": 92,
      "outputs": [
        {
          "output_type": "stream",
          "text": [
            "Admission rate of males : 0.6041666666666666\n"
          ],
          "name": "stdout"
        }
      ]
    },
    {
      "cell_type": "markdown",
      "metadata": {
        "id": "AIhmPJ-3ooBI"
      },
      "source": [
        "### 6. What is the Proportion and admission rate for chemistry majors of each gender¶"
      ]
    },
    {
      "cell_type": "code",
      "metadata": {
        "colab": {
          "base_uri": "https://localhost:8080/"
        },
        "id": "4LoKyzeWooBI",
        "outputId": "829f2f84-60d9-4e7a-db93-70c047dd21a4"
      },
      "source": [
        "## Your code here\n",
        "\n",
        "chemistry_females = len(df.loc[(df.major == 'Chemistry') & (df.gender == 'female')])\n",
        "df.gender.value_counts()\n",
        "female_proportion = chemistry_females / 257\n",
        "print(\"Female Proportion in chemistry :\" , female_proportion)\n",
        "\n",
        "chemistry_males = len(df.loc[(df.major == 'Chemistry') & (df.gender == 'male')])\n",
        "df.gender.value_counts()\n",
        "male_proportion = chemistry_males/243\n",
        "print(\"Male Proportion in chemistry :\" , male_proportion)\n",
        "\n",
        "chemistry_females_admission_rate = len(df.loc[(df.major == 'Chemistry') & (df.gender == 'female') & (df.admitted == True)])\n",
        "admission_rate_females_chemistry = chemistry_females_admission_rate / 192\n",
        "print(\"Admission rate of females in chemistry :\" , admission_rate_females_chemistry)\n",
        "\n",
        "chemistry_males_admission_rate = len(df.loc[(df.major == 'Chemistry') & (df.gender == 'male') & (df.admitted == True)])\n",
        "admission_rate_males_chemistry =  chemistry_males_admission_rate / 192\n",
        "print(\"Admission rate of males in chemistry :\" , admission_rate_males_chemistry)"
      ],
      "execution_count": 109,
      "outputs": [
        {
          "output_type": "stream",
          "text": [
            "Female Proportion in chemistry : 0.8793774319066148\n",
            "Male Proportion in chemistry : 0.07407407407407407\n",
            "Admission rate of females in chemistry : 0.265625\n",
            "Admission rate of males in chemistry : 0.010416666666666666\n"
          ],
          "name": "stdout"
        }
      ]
    },
    {
      "cell_type": "markdown",
      "metadata": {
        "id": "NjrpPQZKooBI"
      },
      "source": [
        "### 7. What is the total Admission rate for each major?"
      ]
    },
    {
      "cell_type": "code",
      "metadata": {
        "colab": {
          "base_uri": "https://localhost:8080/"
        },
        "id": "4bg3wMkgooBI",
        "outputId": "d04672e6-a7f6-451f-afe3-5c454296a502"
      },
      "source": [
        "## Your code here\n",
        "\n",
        "df.major.value_counts()\n",
        "chemistry_admission_rate = len(df.loc[(df.major == 'Chemistry') & (df.admitted == True)])/192\n",
        "physics_admission_rate = len(df.loc[(df.major == 'Physics') & (df.admitted == True)])/192\n",
        "print(\"Admission rate of chemistry :\" , chemistry_admission_rate)\n",
        "print(\"Admission rate of Physics :\" , physics_admission_rate)"
      ],
      "execution_count": 128,
      "outputs": [
        {
          "output_type": "stream",
          "text": [
            "Admission rate of chemistry : 0.2760416666666667\n",
            "Admission rate of Physics : 0.7239583333333334\n"
          ],
          "name": "stdout"
        }
      ]
    }
  ]
}